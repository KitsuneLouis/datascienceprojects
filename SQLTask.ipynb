{
 "cells": [
  {
   "cell_type": "code",
   "execution_count": 2,
   "id": "d6b10702",
   "metadata": {},
   "outputs": [
    {
     "name": "stdout",
     "output_type": "stream",
     "text": [
      "['Bookings', 'Facilities', 'Members']\n"
     ]
    },
    {
     "name": "stderr",
     "output_type": "stream",
     "text": [
      "/var/folders/qv/d4946vpn3qjf14wqxbxdnq5m0000gn/T/ipykernel_1601/4197245412.py:4: SADeprecationWarning: The Engine.table_names() method is deprecated and will be removed in a future release.  Please refer to Inspector.get_table_names(). (deprecated since: 1.4)\n",
      "  table_names = engine.table_names()\n"
     ]
    }
   ],
   "source": [
    "from sqlalchemy import *\n",
    "import pandas as pd\n",
    "engine = create_engine('sqlite:///sqlite_db_pythonsqlite.db')\n",
    "table_names = engine.table_names()\n",
    "print(table_names)"
   ]
  },
  {
   "cell_type": "code",
   "execution_count": 3,
   "id": "7318f8f7",
   "metadata": {},
   "outputs": [
    {
     "name": "stdout",
     "output_type": "stream",
     "text": [
      "   bookid  facid  memid            starttime  slots\n",
      "0       0      3      1  2012-07-03 11:00:00      2\n",
      "1       1      4      1  2012-07-03 08:00:00      2\n",
      "2       2      6      0  2012-07-03 18:00:00      2\n",
      "3       3      7      1  2012-07-03 19:00:00      2\n",
      "4       4      8      1  2012-07-03 10:00:00      1\n"
     ]
    }
   ],
   "source": [
    "with engine.connect() as con:\n",
    "    r = con.execute('SELECT * FROM Bookings')\n",
    "    B_df = pd.DataFrame(r.fetchall())\n",
    "    B_df.columns = r.keys()\n",
    "print(B_df.head())"
   ]
  },
  {
   "cell_type": "code",
   "execution_count": 4,
   "id": "e49087f5",
   "metadata": {},
   "outputs": [
    {
     "name": "stdout",
     "output_type": "stream",
     "text": [
      "   facid             name  membercost  guestcost  initialoutlay  \\\n",
      "0      0   Tennis Court 1         5.0       25.0          10000   \n",
      "1      1   Tennis Court 2         5.0       25.0           8000   \n",
      "2      2  Badminton Court         0.0       15.5           4000   \n",
      "3      3     Table Tennis         0.0        5.0            320   \n",
      "4      4   Massage Room 1         9.9       80.0           4000   \n",
      "\n",
      "   monthlymaintenance  \n",
      "0                 200  \n",
      "1                 200  \n",
      "2                  50  \n",
      "3                  10  \n",
      "4                3000  \n"
     ]
    }
   ],
   "source": [
    "F_df = pd.read_sql_query('SELECT * FROM Facilities', engine)\n",
    "print(F_df.head())"
   ]
  },
  {
   "cell_type": "code",
   "execution_count": 5,
   "id": "fca8fb24",
   "metadata": {},
   "outputs": [
    {
     "name": "stdout",
     "output_type": "stream",
     "text": [
      "   memid   surname firstname                       address  zipcode  \\\n",
      "0      0     GUEST     GUEST                         GUEST        0   \n",
      "1      1     Smith    Darren    8 Bloomsbury Close, Boston     4321   \n",
      "2      2     Smith     Tracy  8 Bloomsbury Close, New York     4321   \n",
      "3      3    Rownam       Tim        23 Highway Way, Boston    23423   \n",
      "4      4  Joplette    Janice    20 Crossing Road, New York      234   \n",
      "\n",
      "        telephone recommendedby             joindate  \n",
      "0  (000) 000-0000                2012-07-01 00:00:00  \n",
      "1    555-555-5555                2012-07-02 12:02:05  \n",
      "2    555-555-5555                2012-07-02 12:08:23  \n",
      "3  (844) 693-0723                2012-07-03 09:32:15  \n",
      "4  (833) 942-4710             1  2012-07-03 10:25:05  \n"
     ]
    }
   ],
   "source": [
    "M_df = pd.read_sql_query('SELECT * FROM Members', engine)\n",
    "print(M_df.head())"
   ]
  },
  {
   "cell_type": "code",
   "execution_count": 21,
   "id": "dd904769",
   "metadata": {},
   "outputs": [
    {
     "name": "stdout",
     "output_type": "stream",
     "text": [
      "               starttime            name  firstname  cost\n",
      "0    2012-09-14 08:00:00  Massage Room 1      GUEST  59.4\n",
      "1    2012-09-14 08:00:00  Massage Room 1     Darren  59.4\n",
      "2    2012-09-14 08:00:00  Massage Room 1      Tracy  59.4\n",
      "3    2012-09-14 08:00:00  Massage Room 1        Tim  59.4\n",
      "4    2012-09-14 08:00:00  Massage Room 1     Janice  59.4\n",
      "..                   ...             ...        ...   ...\n",
      "367  2012-09-14 09:30:00  Massage Room 2  Millicent  39.6\n",
      "368  2012-09-14 09:30:00  Massage Room 2   Hyacinth  39.6\n",
      "369  2012-09-14 09:30:00  Massage Room 2       John  39.6\n",
      "370  2012-09-14 09:30:00  Massage Room 2      Erica  39.6\n",
      "371  2012-09-14 09:30:00  Massage Room 2     Darren  39.6\n",
      "\n",
      "[372 rows x 4 columns]\n"
     ]
    }
   ],
   "source": [
    "Q_8 = pd.read_sql_query(\"\"\"SELECT b.starttime, f.name, m.firstname, f.membercost * b.slots AS cost\n",
    "FROM Bookings AS b\n",
    "JOIN Facilities AS f\n",
    "JOIN Members AS m\n",
    "WHERE b.starttime LIKE '2012-09-14%' AND f.membercost * b.slots > 30.0\n",
    "ORDER BY cost DESC;\"\"\", engine)\n",
    "print(Q_8)"
   ]
  },
  {
   "cell_type": "code",
   "execution_count": 37,
   "id": "9da345df",
   "metadata": {},
   "outputs": [
    {
     "name": "stdout",
     "output_type": "stream",
     "text": [
      "              name firstname  surname   cost            starttime\n",
      "0   Massage Room 2     GUEST    GUEST  320.0  2012-09-14 11:00:00\n",
      "1   Massage Room 1     GUEST    GUEST  160.0  2012-09-14 09:00:00\n",
      "2   Massage Room 1     GUEST    GUEST  160.0  2012-09-14 13:00:00\n",
      "3   Massage Room 1     GUEST    GUEST  160.0  2012-09-14 16:00:00\n",
      "4   Tennis Court 2     GUEST    GUEST  150.0  2012-09-14 17:00:00\n",
      "5   Tennis Court 1     GUEST    GUEST   75.0  2012-09-14 16:00:00\n",
      "6   Tennis Court 1     GUEST    GUEST   75.0  2012-09-14 19:00:00\n",
      "7   Tennis Court 2     GUEST    GUEST   75.0  2012-09-14 14:00:00\n",
      "8     Squash Court     GUEST    GUEST   70.0  2012-09-14 09:30:00\n",
      "9   Massage Room 1    Jemima  Farrell   39.6  2012-09-14 14:00:00\n",
      "10    Squash Court     GUEST    GUEST   35.0  2012-09-14 12:30:00\n",
      "11    Squash Court     GUEST    GUEST   35.0  2012-09-14 15:00:00\n"
     ]
    }
   ],
   "source": [
    "Q9 = pd.read_sql_query(\"\"\"SELECT name, firstname, surname, \n",
    "CASE WHEN memid = 0\n",
    "THEN guestcost * slots\n",
    "ELSE membercost * slots\n",
    "END AS cost, starttime\n",
    "FROM (SELECT * FROM Bookings AS b\n",
    "JOIN Facilities AS f ON b.facid = f.facid\n",
    "JOIN Members AS m ON b.memid = m.memid\n",
    "WHERE starttime LIKE '2012-09-14%' \n",
    "AND CASE WHEN m.memid = 0 THEN guestcost * slots\n",
    "ELSE membercost * slots END > 30)\n",
    "ORDER BY cost DESC;\"\"\", engine)\n",
    "print(Q9)"
   ]
  },
  {
   "cell_type": "code",
   "execution_count": 88,
   "id": "36d3b65f",
   "metadata": {},
   "outputs": [
    {
     "name": "stdout",
     "output_type": "stream",
     "text": [
      "            name  revenue\n",
      "0   Table Tennis      180\n",
      "1  Snooker Table      240\n",
      "2     Pool Table      270\n"
     ]
    }
   ],
   "source": [
    "Q10 = pd.read_sql_query(\"\"\"WITH rev AS (SELECT name, Facilities.facid AS id, \n",
    "SUM(CASE WHEN memid = 0 THEN guestcost * slots ELSE membercost * slots END) AS revenue \n",
    "FROM Facilities\n",
    "JOIN Bookings ON Facilities.facid = Bookings.facid\n",
    "GROUP BY name)\n",
    "SELECT f.name, rev.revenue \n",
    "FROM Facilities AS f\n",
    "JOIN rev ON f.facid = rev.id\n",
    "WHERE rev.revenue < 1000\n",
    "ORDER BY rev.revenue\"\"\", engine)\n",
    "print(Q10)"
   ]
  },
  {
   "cell_type": "code",
   "execution_count": 113,
   "id": "f9c7d7d7",
   "metadata": {},
   "outputs": [
    {
     "name": "stdout",
     "output_type": "stream",
     "text": [
      "    firstname            surname rec recfirstname recsurname\n",
      "0        Anna          Mackenzie   1       Darren      Smith\n",
      "1        Anne              Baker   9       Ponder   Stibbons\n",
      "2     Charles               Owen   1       Darren      Smith\n",
      "3       David              Jones   4       Janice   Joplette\n",
      "4       David             Pinker  13       Jemima    Farrell\n",
      "5     Douglas              Jones  11        David      Jones\n",
      "6       Erica            Crumpet   2        Tracy      Smith\n",
      "7    Florence              Bader   9       Ponder   Stibbons\n",
      "8      Gerald            Butters   1       Darren      Smith\n",
      "9   Henrietta             Rumney  20      Matthew    Genting\n",
      "10      Henry  Worthington-Smyth   2        Tracy      Smith\n",
      "11       Jack              Smith   1       Darren      Smith\n",
      "12     Janice           Joplette   1       Darren      Smith\n",
      "13       Joan             Coplin  16      Timothy      Baker\n",
      "14       John               Hunt  30    Millicent    Purview\n",
      "15    Matthew            Genting   5       Gerald    Butters\n",
      "16  Millicent            Purview   2        Tracy      Smith\n",
      "17      Nancy               Dare   4       Janice   Joplette\n",
      "18     Ponder           Stibbons   6       Burton      Tracy\n",
      "19  Ramnaresh             Sarwin  15     Florence      Bader\n",
      "20        Tim             Boothe   3          Tim     Rownam\n",
      "21    Timothy              Baker  13       Jemima    Farrell\n"
     ]
    }
   ],
   "source": [
    "Q11 = pd.read_sql_query(\"\"\"SELECT m1.firstname, m1.surname, m1.recommendedby AS rec, m2.firstname AS recfirstname, \n",
    "m2.surname AS recsurname\n",
    "FROM Members AS m1\n",
    "JOIN Members AS m2 ON rec = m2.memid\n",
    "WHERE rec > 0 \n",
    "ORDER BY m1.firstname, m1.surname\"\"\", engine)\n",
    "print(Q11)"
   ]
  },
  {
   "cell_type": "code",
   "execution_count": 123,
   "id": "3c59c43d",
   "metadata": {},
   "outputs": [
    {
     "name": "stdout",
     "output_type": "stream",
     "text": [
      "                name  slots  memid firstname            surname\n",
      "0       Table Tennis      2      1    Darren              Smith\n",
      "1     Massage Room 1      2      1    Darren              Smith\n",
      "2      Snooker Table      2      1    Darren              Smith\n",
      "3         Pool Table      1      1    Darren              Smith\n",
      "4         Pool Table      1      1    Darren              Smith\n",
      "...              ...    ...    ...       ...                ...\n",
      "3155      Pool Table      2     29     Henry  Worthington-Smyth\n",
      "3156      Pool Table      1     29     Henry  Worthington-Smyth\n",
      "3157      Pool Table      1     21      Anna          Mackenzie\n",
      "3158      Pool Table      1     16   Timothy              Baker\n",
      "3159      Pool Table      1     29     Henry  Worthington-Smyth\n",
      "\n",
      "[3160 rows x 5 columns]\n"
     ]
    }
   ],
   "source": [
    "Q12 = pd.read_sql_query(\"\"\"SELECT f.name, b.memid, m.firstname, m.surname\n",
    "FROM Bookings AS b\n",
    "JOIN Facilities AS f ON f.facid = b.facid\n",
    "JOIN Members AS m ON m.memid = b.memid\n",
    "WHERE b.memid != 0\"\"\", engine)\n",
    "print(Q12)"
   ]
  },
  {
   "cell_type": "code",
   "execution_count": 140,
   "id": "725126fc",
   "metadata": {},
   "outputs": [
    {
     "name": "stdout",
     "output_type": "stream",
     "text": [
      "            facility  usage month firstname            surname\n",
      "0       Table Tennis      2    07    Darren              Smith\n",
      "1     Massage Room 1      2    07    Darren              Smith\n",
      "2      Snooker Table      2    07    Darren              Smith\n",
      "3         Pool Table      1    07    Darren              Smith\n",
      "4         Pool Table      1    07    Darren              Smith\n",
      "...              ...    ...   ...       ...                ...\n",
      "3155      Pool Table      2    09     Henry  Worthington-Smyth\n",
      "3156      Pool Table      1    09     Henry  Worthington-Smyth\n",
      "3157      Pool Table      1    09      Anna          Mackenzie\n",
      "3158      Pool Table      1    09   Timothy              Baker\n",
      "3159      Pool Table      1    09     Henry  Worthington-Smyth\n",
      "\n",
      "[3160 rows x 5 columns]\n"
     ]
    }
   ],
   "source": [
    "Q13 = pd.read_sql_query(\"\"\"SELECT f.name AS facility, slots AS usage, strftime('%m', starttime) AS month, \n",
    "m.firstname, m.surname \n",
    "FROM Bookings AS b\n",
    "JOIN Facilities AS f ON f.facid = b.facid\n",
    "JOIN Members AS m ON m.memid = b.memid\n",
    "WHERE b.memid != 0\"\"\", engine)\n",
    "print(Q13)"
   ]
  },
  {
   "cell_type": "code",
   "execution_count": null,
   "id": "7626fc2c",
   "metadata": {},
   "outputs": [],
   "source": []
  }
 ],
 "metadata": {
  "kernelspec": {
   "display_name": "Python 3 (ipykernel)",
   "language": "python",
   "name": "python3"
  },
  "language_info": {
   "codemirror_mode": {
    "name": "ipython",
    "version": 3
   },
   "file_extension": ".py",
   "mimetype": "text/x-python",
   "name": "python",
   "nbconvert_exporter": "python",
   "pygments_lexer": "ipython3",
   "version": "3.9.7"
  }
 },
 "nbformat": 4,
 "nbformat_minor": 5
}
